{
 "cells": [
  {
   "cell_type": "markdown",
   "metadata": {},
   "source": [
    "# 🩺📊✨ Text Analytics for Health"
   ]
  },
  {
   "cell_type": "markdown",
   "metadata": {},
   "source": [
    "Azure AI Language Text Analytics for Health is a cloud-based API service that uses machine learning to extract and label relevant medical information from unstructured texts like doctor's notes, discharge summaries, clinical documents, and electronic health records. This service is designed to help healthcare providers improve health outcomes by analyzing text data for insights.\n",
    "\n",
    "Its documentation can be found [here](https://learn.microsoft.com/en-us/azure/ai-services/language-service/text-analytics-for-health/overview?tabs=ner). \n",
    "\n",
    "With Azure AI Language Text Analytics for Health, you can:\n",
    "\n",
    "- **Named Entity Recognition**: Identify and categorize medical entities such as \n",
    "    - *Medications*: Names of drugs, dosages, and forms (e.g., tablets, injections).\n",
    "    - *Conditions*: Medical conditions, diseases, symptoms, and diagnoses.\n",
    "    - *Procedures*: Medical procedures, surgeries, and treatments.\n",
    "    - *Anatomical Terms*: Parts of the body, organs, and tissues.\n",
    "    - *Lab Tests*: Names of laboratory tests and their results.\n",
    "    - *Medical Devices*: Equipment and devices used in medical treatments.\n",
    "    - *Healthcare Providers*: Names and roles of healthcare professionals (e.g., doctors, nurses).\n",
    "    - *Patient Information*: Demographic details such as age, gender, and ethnicity.\n",
    "    - *Clinical Events*: Events related to patient care, such as hospital admissions and discharges.\n",
    "- **Relation Extraction**: Determine relationships between entities, such as dosage and medication.\n",
    "- **Entity Linking**: Link entities to standardized medical vocabularies like UMLS.\n",
    "- **Assertion Detection**: Identify whether entities are present, absent, or conditional.\n",
    "- **Social Determinants of Health (SDOH) Extraction**: Extract mentions of social factors affecting health, such as living conditions and ethnicity"
   ]
  },
  {
   "cell_type": "markdown",
   "metadata": {},
   "source": [
    "## How to run this notebook"
   ]
  },
  {
   "cell_type": "markdown",
   "metadata": {},
   "source": [
    "1. Make sure Python is installed. \n",
    "2. Create a virtual environment and activate it. \n",
    "3. Install the dependencies specified in requirements.txt."
   ]
  },
  {
   "cell_type": "code",
   "execution_count": 1,
   "metadata": {},
   "outputs": [
    {
     "name": "stdout",
     "output_type": "stream",
     "text": [
      "Requirement already satisfied: azure-ai-textanalytics==5.2.0 in /Users/nicograssetto/Documents/GitHub/ai-language-notebooks/.venv/lib/python3.12/site-packages (from -r requirements.txt (line 1)) (5.2.0)\n",
      "Requirement already satisfied: azure-identity in /Users/nicograssetto/Documents/GitHub/ai-language-notebooks/.venv/lib/python3.12/site-packages (from -r requirements.txt (line 2)) (1.21.0)\n",
      "Requirement already satisfied: azure-core in /Users/nicograssetto/Documents/GitHub/ai-language-notebooks/.venv/lib/python3.12/site-packages (from -r requirements.txt (line 3)) (1.33.0)\n",
      "Requirement already satisfied: msrest>=0.7.0 in /Users/nicograssetto/Documents/GitHub/ai-language-notebooks/.venv/lib/python3.12/site-packages (from azure-ai-textanalytics==5.2.0->-r requirements.txt (line 1)) (0.7.1)\n",
      "Requirement already satisfied: azure-common~=1.1 in /Users/nicograssetto/Documents/GitHub/ai-language-notebooks/.venv/lib/python3.12/site-packages (from azure-ai-textanalytics==5.2.0->-r requirements.txt (line 1)) (1.1.28)\n",
      "Requirement already satisfied: typing-extensions>=4.0.1 in /Users/nicograssetto/Documents/GitHub/ai-language-notebooks/.venv/lib/python3.12/site-packages (from azure-ai-textanalytics==5.2.0->-r requirements.txt (line 1)) (4.13.1)\n",
      "Requirement already satisfied: cryptography>=2.5 in /Users/nicograssetto/Documents/GitHub/ai-language-notebooks/.venv/lib/python3.12/site-packages (from azure-identity->-r requirements.txt (line 2)) (44.0.2)\n",
      "Requirement already satisfied: msal>=1.30.0 in /Users/nicograssetto/Documents/GitHub/ai-language-notebooks/.venv/lib/python3.12/site-packages (from azure-identity->-r requirements.txt (line 2)) (1.32.0)\n",
      "Requirement already satisfied: msal-extensions>=1.2.0 in /Users/nicograssetto/Documents/GitHub/ai-language-notebooks/.venv/lib/python3.12/site-packages (from azure-identity->-r requirements.txt (line 2)) (1.3.1)\n",
      "Requirement already satisfied: requests>=2.21.0 in /Users/nicograssetto/Documents/GitHub/ai-language-notebooks/.venv/lib/python3.12/site-packages (from azure-core->-r requirements.txt (line 3)) (2.32.3)\n",
      "Requirement already satisfied: six>=1.11.0 in /Users/nicograssetto/Documents/GitHub/ai-language-notebooks/.venv/lib/python3.12/site-packages (from azure-core->-r requirements.txt (line 3)) (1.17.0)\n",
      "Requirement already satisfied: cffi>=1.12 in /Users/nicograssetto/Documents/GitHub/ai-language-notebooks/.venv/lib/python3.12/site-packages (from cryptography>=2.5->azure-identity->-r requirements.txt (line 2)) (1.17.1)\n",
      "Requirement already satisfied: PyJWT<3,>=1.0.0 in /Users/nicograssetto/Documents/GitHub/ai-language-notebooks/.venv/lib/python3.12/site-packages (from PyJWT[crypto]<3,>=1.0.0->msal>=1.30.0->azure-identity->-r requirements.txt (line 2)) (2.10.1)\n",
      "Requirement already satisfied: certifi>=2017.4.17 in /Users/nicograssetto/Documents/GitHub/ai-language-notebooks/.venv/lib/python3.12/site-packages (from msrest>=0.7.0->azure-ai-textanalytics==5.2.0->-r requirements.txt (line 1)) (2025.1.31)\n",
      "Requirement already satisfied: isodate>=0.6.0 in /Users/nicograssetto/Documents/GitHub/ai-language-notebooks/.venv/lib/python3.12/site-packages (from msrest>=0.7.0->azure-ai-textanalytics==5.2.0->-r requirements.txt (line 1)) (0.7.2)\n",
      "Requirement already satisfied: requests-oauthlib>=0.5.0 in /Users/nicograssetto/Documents/GitHub/ai-language-notebooks/.venv/lib/python3.12/site-packages (from msrest>=0.7.0->azure-ai-textanalytics==5.2.0->-r requirements.txt (line 1)) (2.0.0)\n",
      "Requirement already satisfied: charset-normalizer<4,>=2 in /Users/nicograssetto/Documents/GitHub/ai-language-notebooks/.venv/lib/python3.12/site-packages (from requests>=2.21.0->azure-core->-r requirements.txt (line 3)) (3.4.1)\n",
      "Requirement already satisfied: idna<4,>=2.5 in /Users/nicograssetto/Documents/GitHub/ai-language-notebooks/.venv/lib/python3.12/site-packages (from requests>=2.21.0->azure-core->-r requirements.txt (line 3)) (3.10)\n",
      "Requirement already satisfied: urllib3<3,>=1.21.1 in /Users/nicograssetto/Documents/GitHub/ai-language-notebooks/.venv/lib/python3.12/site-packages (from requests>=2.21.0->azure-core->-r requirements.txt (line 3)) (2.3.0)\n",
      "Requirement already satisfied: pycparser in /Users/nicograssetto/Documents/GitHub/ai-language-notebooks/.venv/lib/python3.12/site-packages (from cffi>=1.12->cryptography>=2.5->azure-identity->-r requirements.txt (line 2)) (2.22)\n",
      "Requirement already satisfied: oauthlib>=3.0.0 in /Users/nicograssetto/Documents/GitHub/ai-language-notebooks/.venv/lib/python3.12/site-packages (from requests-oauthlib>=0.5.0->msrest>=0.7.0->azure-ai-textanalytics==5.2.0->-r requirements.txt (line 1)) (3.2.2)\n"
     ]
    }
   ],
   "source": [
    "!pip install -r requirements.txt"
   ]
  },
  {
   "cell_type": "markdown",
   "metadata": {},
   "source": [
    "4. Deploy the necessary services by clicking on the Deploy button in the notebook."
   ]
  },
  {
   "cell_type": "markdown",
   "metadata": {},
   "source": [
    "\n",
    "<a href=\"https://portal.azure.com/#create/Microsoft.Template/uri/https%3A%2F%2Fraw.githubusercontent.com%2FNicoGrassetto%2Fai-language-notebooks%2Fmain%2Ftext-analytics-for-health%2Fdeplo.json\" target=\"_blank\">\n",
    "    <img src=\"deploytoazure.svg\" alt=\"Button\" style=\"width:200px;height:auto;\">\n",
    "</a>"
   ]
  },
  {
   "cell_type": "code",
   "execution_count": 3,
   "metadata": {},
   "outputs": [
    {
     "data": {
      "text/plain": [
       "NoneType"
      ]
     },
     "execution_count": 3,
     "metadata": {},
     "output_type": "execute_result"
    }
   ],
   "source": [
    "from azure.identity import DefaultAzureCredential\n",
    "from azure.ai.textanalytics import TextAnalyticsClient\n",
    "import os\n",
    "# Use DefaultAzureCredential for managed identity authentication\n",
    "credential = DefaultAzureCredential()\n",
    "endpoint = os.environ.get('LANGUAGE_ENDPOINT')\n",
    "type(endpoint)\n",
    "# # Create the Text Analytics client\n",
    "# client = TextAnalyticsClient(endpoint=endpoint, credential=credential)"
   ]
  },
  {
   "cell_type": "code",
   "execution_count": null,
   "metadata": {},
   "outputs": [
    {
     "ename": "",
     "evalue": "",
     "output_type": "error",
     "traceback": [
      "\u001b[1;31mThe kernel failed to start as the Python Environment '.venv (Python 3.12.9)' is no longer available. Consider selecting another kernel or refreshing the list of Python Environments."
     ]
    }
   ],
   "source": [
    "# # Authenticate the client using your key and endpoint \n",
    "# def authenticate_client():\n",
    "#     ta_credential = AzureKeyCredential(key)\n",
    "#     text_analytics_client = TextAnalyticsClient(\n",
    "#             endpoint=endpoint, \n",
    "#             credential=ta_credential)\n",
    "#     return text_analytics_client\n",
    "\n",
    "# client = authenticate_client()\n",
    "\n",
    "# # Example function for extracting information from healthcare-related text \n",
    "# def health_example(client):\n",
    "#     documents = [\n",
    "#         \"\"\"\n",
    "#         Patient needs to take 50 mg of ibuprofen.\n",
    "#         \"\"\"\n",
    "#     ]\n",
    "\n",
    "#     poller = client.begin_analyze_healthcare_entities(documents)\n",
    "#     result = poller.result()\n",
    "\n",
    "#     docs = [doc for doc in result if not doc.is_error]\n",
    "\n",
    "#     for idx, doc in enumerate(docs):\n",
    "#         for entity in doc.entities:\n",
    "#             print(\"Entity: {}\".format(entity.text))\n",
    "#             print(\"...Normalized Text: {}\".format(entity.normalized_text))\n",
    "#             print(\"...Category: {}\".format(entity.category))\n",
    "#             print(\"...Subcategory: {}\".format(entity.subcategory))\n",
    "#             print(\"...Offset: {}\".format(entity.offset))\n",
    "#             print(\"...Confidence score: {}\".format(entity.confidence_score))\n",
    "#         for relation in doc.entity_relations:\n",
    "#             print(\"Relation of type: {} has the following roles\".format(relation.relation_type))\n",
    "#             for role in relation.roles:\n",
    "#                 print(\"...Role '{}' with entity '{}'\".format(role.name, role.entity.text))\n",
    "#         print(\"------------------------------------------\")\n",
    "# health_example(client)"
   ]
  }
 ],
 "metadata": {
  "kernelspec": {
   "display_name": "Python 3",
   "language": "python",
   "name": "python3"
  },
  "language_info": {
   "codemirror_mode": {
    "name": "ipython",
    "version": 3
   },
   "file_extension": ".py",
   "mimetype": "text/x-python",
   "name": "python",
   "nbconvert_exporter": "python",
   "pygments_lexer": "ipython3",
   "version": "3.12.9"
  }
 },
 "nbformat": 4,
 "nbformat_minor": 2
}
