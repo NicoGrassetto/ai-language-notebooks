{
 "cells": [
  {
   "cell_type": "code",
   "execution_count": null,
   "metadata": {},
   "outputs": [],
   "source": [
    "# !pip install azure-ai-textanalytics==5.2.0\n",
    "https://portal.azure.com/#create/Microsoft.Template/uri/https%3A%2F%2Fraw.githubusercontent.com%2FAzure-Samples%2Fazureai-samples%2Fmain%2Fscenarios%2FAgents%2Fsetup%2Fbasic-agent-identity%2Fazuredeploy.json"
   ]
  },
  {
   "cell_type": "markdown",
   "metadata": {},
   "source": [
    "\n",
    "<a href=\"../../../assets/deploytoazure.svg\" target=\"_blank\">\n",
    "    <img src=\"deploytoazure.svg\" alt=\"Button\" style=\"width:200px;height:auto;\">\n",
    "</a>"
   ]
  },
  {
   "cell_type": "code",
   "execution_count": null,
   "metadata": {},
   "outputs": [],
   "source": [
    "import os\n",
    "from dotenv import load_dotenv\n",
    "\n",
    "from azure.ai.textanalytics import TextAnalyticsClient\n",
    "from azure.core.credentials import AzureKeyCredential\n",
    "\n",
    "load_dotenv()\n",
    "key = os.environ.get('LANGUAGE_KEY')\n",
    "endpoint = os.environ.get('LANGUAGE_ENDPOINT')"
   ]
  },
  {
   "cell_type": "code",
   "execution_count": null,
   "metadata": {},
   "outputs": [
    {
     "name": "stdout",
     "output_type": "stream",
     "text": [
      "Entity: 50 mg\n",
      "...Normalized Text: None\n",
      "...Category: Dosage\n",
      "...Subcategory: None\n",
      "...Offset: 31\n",
      "...Confidence score: 1.0\n",
      "Entity: ibuprofen\n",
      "...Normalized Text: ibuprofen\n",
      "...Category: MedicationName\n",
      "...Subcategory: None\n",
      "...Offset: 40\n",
      "...Confidence score: 1.0\n",
      "Relation of type: DosageOfMedication has the following roles\n",
      "...Role 'Dosage' with entity '50 mg'\n",
      "...Role 'Medication' with entity 'ibuprofen'\n",
      "------------------------------------------\n"
     ]
    }
   ],
   "source": [
    "# Authenticate the client using your key and endpoint \n",
    "def authenticate_client():\n",
    "    ta_credential = AzureKeyCredential(key)\n",
    "    text_analytics_client = TextAnalyticsClient(\n",
    "            endpoint=endpoint, \n",
    "            credential=ta_credential)\n",
    "    return text_analytics_client\n",
    "\n",
    "client = authenticate_client()\n",
    "\n",
    "# Example function for extracting information from healthcare-related text \n",
    "def health_example(client):\n",
    "    documents = [\n",
    "        \"\"\"\n",
    "        Patient needs to take 50 mg of ibuprofen.\n",
    "        \"\"\"\n",
    "    ]\n",
    "\n",
    "    poller = client.begin_analyze_healthcare_entities(documents)\n",
    "    result = poller.result()\n",
    "\n",
    "    docs = [doc for doc in result if not doc.is_error]\n",
    "\n",
    "    for idx, doc in enumerate(docs):\n",
    "        for entity in doc.entities:\n",
    "            print(\"Entity: {}\".format(entity.text))\n",
    "            print(\"...Normalized Text: {}\".format(entity.normalized_text))\n",
    "            print(\"...Category: {}\".format(entity.category))\n",
    "            print(\"...Subcategory: {}\".format(entity.subcategory))\n",
    "            print(\"...Offset: {}\".format(entity.offset))\n",
    "            print(\"...Confidence score: {}\".format(entity.confidence_score))\n",
    "        for relation in doc.entity_relations:\n",
    "            print(\"Relation of type: {} has the following roles\".format(relation.relation_type))\n",
    "            for role in relation.roles:\n",
    "                print(\"...Role '{}' with entity '{}'\".format(role.name, role.entity.text))\n",
    "        print(\"------------------------------------------\")\n",
    "health_example(client)"
   ]
  }
 ],
 "metadata": {
  "kernelspec": {
   "display_name": "base",
   "language": "python",
   "name": "python3"
  },
  "language_info": {
   "codemirror_mode": {
    "name": "ipython",
    "version": 3
   },
   "file_extension": ".py",
   "mimetype": "text/x-python",
   "name": "python",
   "nbconvert_exporter": "python",
   "pygments_lexer": "ipython3",
   "version": "3.12.4"
  }
 },
 "nbformat": 4,
 "nbformat_minor": 2
}
