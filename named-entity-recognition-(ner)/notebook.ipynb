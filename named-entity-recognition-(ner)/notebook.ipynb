{
 "cells": [
  {
   "cell_type": "markdown",
   "metadata": {},
   "source": [
    "```markdown\n",
    "# Text Analytics with Azure Cognitive Services\n",
    "\n",
    "This notebook demonstrates the use of Azure Cognitive Services for text analytics. It covers various actions such as recognizing entities, extracting Personally Identifiable Information (PII), and linking entities to external data sources. The workflow utilizes the `TextAnalyticsClient` to process sample documents and extract meaningful insights.\n",
    "```"
   ]
  },
  {
   "cell_type": "code",
   "execution_count": null,
   "metadata": {},
   "outputs": [],
   "source": [
    "import os\n",
    "from azure.core.credentials import AzureKeyCredential\n",
    "from azure.ai.textanalytics import (\n",
    "        TextAnalyticsClient,\n",
    "        RecognizeEntitiesAction,\n",
    "        RecognizeLinkedEntitiesAction,\n",
    "        RecognizePiiEntitiesAction\n",
    "    )\n",
    "from dotenv import load_dotenv\n",
    "\n",
    "load_dotenv()\n",
    "\n",
    "endpoint = os.getenv(\"AZURE_LANGUAGE_ENDPOINT\")\n",
    "key = os.getenv(\"AZURE_LANGUAGE_KEY\")"
   ]
  },
  {
   "cell_type": "code",
   "execution_count": null,
   "metadata": {},
   "outputs": [],
   "source": [
    "text_analytics_client = TextAnalyticsClient(\n",
    "    endpoint=endpoint,\n",
    "    credential=AzureKeyCredential(key),\n",
    ")"
   ]
  },
  {
   "cell_type": "code",
   "execution_count": 7,
   "metadata": {},
   "outputs": [],
   "source": [
    "documents = [\n",
    "        'We went to Contoso Steakhouse located at midtown NYC last week for a dinner party, and we adore the spot! '\n",
    "        'They provide marvelous food and they have a great menu. The chief cook happens to be the owner (I think his name is John Doe) '\n",
    "        'and he is super nice, coming out of the kitchen and greeted us all.'\n",
    "        ,\n",
    "\n",
    "        'We enjoyed very much dining in the place! '\n",
    "        'The Sirloin steak I ordered was tender and juicy, and the place was impeccably clean. You can even pre-order from their '\n",
    "        'online menu at www.contososteakhouse.com, call 312-555-0176 or send email to order@contososteakhouse.com! '\n",
    "        'The only complaint I have is the food didn\\'t come fast enough. Overall I highly recommend it!'\n",
    "    ]"
   ]
  },
  {
   "cell_type": "markdown",
   "metadata": {},
   "source": [
    "# Recognize Entities\n",
    "This cell demonstrates how to extract general entities from the document using the `EntityRecognition` action. It retrieves information such as the entity text, category, confidence score, and offset within the document."
   ]
  },
  {
   "cell_type": "code",
   "execution_count": null,
   "metadata": {},
   "outputs": [
    {
     "name": "stdout",
     "output_type": "stream",
     "text": [
      "\n",
      "Document text: We went to Contoso Steakhouse located at midtown NYC last week for a dinner party, and we adore the spot! They provide marvelous food and they have a great menu. The chief cook happens to be the owner (I think his name is John Doe) and he is super nice, coming out of the kitchen and greeted us all.\n",
      "...Results of Recognize Entities Action:\n",
      "......Entity: Contoso Steakhouse\n",
      ".........Category: Location\n",
      ".........Confidence Score: 0.98\n",
      ".........Offset: 11\n",
      "......Entity: NYC\n",
      ".........Category: Location\n",
      ".........Confidence Score: 1.0\n",
      ".........Offset: 49\n",
      "......Entity: last week\n",
      ".........Category: DateTime\n",
      ".........Confidence Score: 1.0\n",
      ".........Offset: 53\n",
      "......Entity: dinner party\n",
      ".........Category: Event\n",
      ".........Confidence Score: 0.77\n",
      ".........Offset: 69\n",
      "......Entity: food\n",
      ".........Category: Product\n",
      ".........Confidence Score: 0.85\n",
      ".........Offset: 129\n",
      "......Entity: chief cook\n",
      ".........Category: PersonType\n",
      ".........Confidence Score: 0.65\n",
      ".........Offset: 166\n",
      "......Entity: owner\n",
      ".........Category: PersonType\n",
      ".........Confidence Score: 0.97\n",
      ".........Offset: 195\n",
      "......Entity: John Doe\n",
      ".........Category: Person\n",
      ".........Confidence Score: 0.99\n",
      ".........Offset: 222\n",
      "......Entity: kitchen\n",
      ".........Category: Location\n",
      ".........Confidence Score: 0.96\n",
      ".........Offset: 272\n",
      "------------------------------------------\n",
      "\n",
      "Document text: We enjoyed very much dining in the place! The Sirloin steak I ordered was tender and juicy, and the place was impeccably clean. You can even pre-order from their online menu at www.contososteakhouse.com, call 312-555-0176 or send email to order@contososteakhouse.com! The only complaint I have is the food didn't come fast enough. Overall I highly recommend it!\n",
      "...Results of Recognize Entities Action:\n",
      "......Entity: place\n",
      ".........Category: Location\n",
      ".........Confidence Score: 0.6\n",
      ".........Offset: 35\n",
      "......Entity: Sirloin steak\n",
      ".........Category: Product\n",
      ".........Confidence Score: 0.96\n",
      ".........Offset: 46\n",
      "......Entity: www.contososteakhouse.com\n",
      ".........Category: URL\n",
      ".........Confidence Score: 0.8\n",
      ".........Offset: 177\n",
      "......Entity: 312-555-0176\n",
      ".........Category: PhoneNumber\n",
      ".........Confidence Score: 0.8\n",
      ".........Offset: 209\n",
      "......Entity: order@contososteakhouse.com\n",
      ".........Category: Email\n",
      ".........Confidence Score: 0.8\n",
      ".........Offset: 239\n",
      "......Entity: food\n",
      ".........Category: Product\n",
      ".........Confidence Score: 0.91\n",
      ".........Offset: 301\n",
      "------------------------------------------\n"
     ]
    }
   ],
   "source": [
    "poller = text_analytics_client.begin_analyze_actions(\n",
    "        documents,\n",
    "        display_name=\"Sample Text Analysis\",\n",
    "        actions=[\n",
    "            RecognizeEntitiesAction()\n",
    "        ])\n",
    "document_results = poller.result()\n",
    "for doc, action_results in zip(documents, document_results):\n",
    "    print(f\"\\nDocument text: {doc}\")\n",
    "    for result in action_results:\n",
    "        if result.kind == \"EntityRecognition\":\n",
    "            print(\"...Results of Recognize Entities Action:\")\n",
    "            for entity in result.entities:\n",
    "                print(f\"......Entity: {entity.text}\")\n",
    "                print(f\".........Category: {entity.category}\")\n",
    "                print(f\".........Confidence Score: {entity.confidence_score}\")\n",
    "                print(f\".........Offset: {entity.offset}\")\n",
    "    print(\"------------------------------------------\")"
   ]
  },
  {
   "cell_type": "markdown",
   "metadata": {},
   "source": [
    "# Recognize PII Entities\n",
    "This cell demonstrates how to extract Personally Identifiable Information (PII) entities from the document using the `PiiEntityRecognition` action. It retrieves information such as the entity text, category, and confidence score."
   ]
  },
  {
   "cell_type": "code",
   "execution_count": null,
   "metadata": {},
   "outputs": [
    {
     "name": "stdout",
     "output_type": "stream",
     "text": [
      "\n",
      "Document text: We went to Contoso Steakhouse located at midtown NYC last week for a dinner party, and we adore the spot! They provide marvelous food and they have a great menu. The chief cook happens to be the owner (I think his name is John Doe) and he is super nice, coming out of the kitchen and greeted us all.\n",
      "...Results of Recognize PII Entities action:\n",
      "......Entity: chief cook\n",
      ".........Category: PersonType\n",
      ".........Confidence Score: 0.65\n",
      "......Entity: owner\n",
      ".........Category: PersonType\n",
      ".........Confidence Score: 0.97\n",
      "......Entity: John Doe\n",
      ".........Category: Person\n",
      ".........Confidence Score: 0.99\n",
      "------------------------------------------\n",
      "\n",
      "Document text: We enjoyed very much dining in the place! The Sirloin steak I ordered was tender and juicy, and the place was impeccably clean. You can even pre-order from their online menu at www.contososteakhouse.com, call 312-555-0176 or send email to order@contososteakhouse.com! The only complaint I have is the food didn't come fast enough. Overall I highly recommend it!\n",
      "...Results of Recognize PII Entities action:\n",
      "......Entity: www.contososteakhouse.com\n",
      ".........Category: URL\n",
      ".........Confidence Score: 0.8\n",
      "......Entity: 312-555-0176\n",
      ".........Category: PhoneNumber\n",
      ".........Confidence Score: 0.8\n",
      "......Entity: order@contososteakhouse.com\n",
      ".........Category: Email\n",
      ".........Confidence Score: 0.8\n",
      "------------------------------------------\n"
     ]
    }
   ],
   "source": [
    "poller = text_analytics_client.begin_analyze_actions(\n",
    "        documents,\n",
    "        display_name=\"Sample Text Analysis\",\n",
    "        actions=[RecognizePiiEntitiesAction()])\n",
    "document_results = poller.result()\n",
    "for doc, action_results in zip(documents, document_results):\n",
    "    print(f\"\\nDocument text: {doc}\")\n",
    "    for result in action_results:\n",
    "        if result.kind == \"PiiEntityRecognition\":\n",
    "            print(\"...Results of Recognize PII Entities action:\")\n",
    "            for pii_entity in result.entities:\n",
    "                print(f\"......Entity: {pii_entity.text}\")\n",
    "                print(f\".........Category: {pii_entity.category}\")\n",
    "                print(f\".........Confidence Score: {pii_entity.confidence_score}\")\n",
    "    print(\"------------------------------------------\")"
   ]
  },
  {
   "cell_type": "markdown",
   "metadata": {},
   "source": [
    "# Recognize Linked Entities\n",
    "This cell demonstrates how to extract linked entities from the document using the `EntityLinking` action. It retrieves information such as the entity name, data source, language, entity ID, URL, and matches within the document."
   ]
  },
  {
   "cell_type": "code",
   "execution_count": null,
   "metadata": {},
   "outputs": [
    {
     "name": "stdout",
     "output_type": "stream",
     "text": [
      "\n",
      "Document text: We went to Contoso Steakhouse located at midtown NYC last week for a dinner party, and we adore the spot! They provide marvelous food and they have a great menu. The chief cook happens to be the owner (I think his name is John Doe) and he is super nice, coming out of the kitchen and greeted us all.\n",
      "...Results of Recognize Linked Entities action:\n",
      "......Entity name: Steakhouse\n",
      ".........Data source: Wikipedia\n",
      ".........Data source language: en\n",
      ".........Data source entity ID: Steakhouse\n",
      ".........Data source URL: https://en.wikipedia.org/wiki/Steakhouse\n",
      ".........Document matches:\n",
      "............Match text: Steakhouse\n",
      "............Confidence Score: 0.75\n",
      "............Offset: 19\n",
      "............Length: 10\n",
      "......Entity name: New York City\n",
      ".........Data source: Wikipedia\n",
      ".........Data source language: en\n",
      ".........Data source entity ID: New York City\n",
      ".........Data source URL: https://en.wikipedia.org/wiki/New_York_City\n",
      ".........Document matches:\n",
      "............Match text: NYC\n",
      "............Confidence Score: 0.37\n",
      "............Offset: 49\n",
      "............Length: 3\n",
      "......Entity name: John Doe\n",
      ".........Data source: Wikipedia\n",
      ".........Data source language: en\n",
      ".........Data source entity ID: John Doe\n",
      ".........Data source URL: https://en.wikipedia.org/wiki/John_Doe\n",
      ".........Document matches:\n",
      "............Match text: John Doe\n",
      "............Confidence Score: 0.05\n",
      "............Offset: 222\n",
      "............Length: 8\n",
      "------------------------------------------\n",
      "\n",
      "Document text: We enjoyed very much dining in the place! The Sirloin steak I ordered was tender and juicy, and the place was impeccably clean. You can even pre-order from their online menu at www.contososteakhouse.com, call 312-555-0176 or send email to order@contososteakhouse.com! The only complaint I have is the food didn't come fast enough. Overall I highly recommend it!\n",
      "...Results of Recognize Linked Entities action:\n",
      "......Entity name: Sirloin steak\n",
      ".........Data source: Wikipedia\n",
      ".........Data source language: en\n",
      ".........Data source entity ID: Sirloin steak\n",
      ".........Data source URL: https://en.wikipedia.org/wiki/Sirloin_steak\n",
      ".........Document matches:\n",
      "............Match text: Sirloin steak\n",
      "............Confidence Score: 0.69\n",
      "............Offset: 46\n",
      "............Length: 13\n",
      "------------------------------------------\n"
     ]
    }
   ],
   "source": [
    "poller = text_analytics_client.begin_analyze_actions(\n",
    "        documents,\n",
    "        display_name=\"Sample Text Analysis\",\n",
    "        actions=[RecognizeLinkedEntitiesAction()])\n",
    "document_results = poller.result()\n",
    "for doc, action_results in zip(documents, document_results):\n",
    "    print(f\"\\nDocument text: {doc}\")\n",
    "    for result in action_results:\n",
    "        if result.kind == \"EntityLinking\":\n",
    "            print(\"...Results of Recognize Linked Entities action:\")\n",
    "            for linked_entity in result.entities:\n",
    "                print(f\"......Entity name: {linked_entity.name}\")\n",
    "                print(f\".........Data source: {linked_entity.data_source}\")\n",
    "                print(f\".........Data source language: {linked_entity.language}\")\n",
    "                print(f\".........Data source entity ID: {linked_entity.data_source_entity_id}\")\n",
    "                print(f\".........Data source URL: {linked_entity.url}\")\n",
    "                print(\".........Document matches:\")\n",
    "                for match in linked_entity.matches:\n",
    "                    print(f\"............Match text: {match.text}\")\n",
    "                    print(f\"............Confidence Score: {match.confidence_score}\")\n",
    "                    print(f\"............Offset: {match.offset}\")\n",
    "                    print(f\"............Length: {match.length}\")\n",
    "    print(\"------------------------------------------\")"
   ]
  }
 ],
 "metadata": {
  "kernelspec": {
   "display_name": "base",
   "language": "python",
   "name": "python3"
  },
  "language_info": {
   "codemirror_mode": {
    "name": "ipython",
    "version": 3
   },
   "file_extension": ".py",
   "mimetype": "text/x-python",
   "name": "python",
   "nbconvert_exporter": "python",
   "pygments_lexer": "ipython3",
   "version": "3.12.7"
  }
 },
 "nbformat": 4,
 "nbformat_minor": 2
}
